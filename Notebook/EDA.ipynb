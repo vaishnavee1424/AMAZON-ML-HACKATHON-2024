{
 "cells": [
  {
   "cell_type": "code",
   "execution_count": 117,
   "metadata": {},
   "outputs": [],
   "source": [
    "# Loading the Dataset\n",
    "import pandas as pd\n",
    "\n",
    "# Load train and test datasets\n",
    "train_df = pd.read_csv('train.csv')\n",
    "test_df = pd.read_csv('test.csv')"
   ]
  },
  {
   "cell_type": "code",
   "execution_count": 118,
   "metadata": {},
   "outputs": [
    {
     "name": "stdout",
     "output_type": "stream",
     "text": [
      "                                          image_link  group_id  entity_name  \\\n",
      "0  https://m.media-amazon.com/images/I/61I9XdN6OF...    748919  item_weight   \n",
      "1  https://m.media-amazon.com/images/I/71gSRbyXmo...    916768  item_volume   \n",
      "2  https://m.media-amazon.com/images/I/61BZ4zrjZX...    459516  item_weight   \n",
      "3  https://m.media-amazon.com/images/I/612mrlqiI4...    459516  item_weight   \n",
      "4  https://m.media-amazon.com/images/I/617Tl40LOX...    731432  item_weight   \n",
      "\n",
      "     entity_value  \n",
      "0      500.0 gram  \n",
      "1         1.0 cup  \n",
      "2      0.709 gram  \n",
      "3      0.709 gram  \n",
      "4  1400 milligram  \n",
      "   index                                         image_link  group_id  \\\n",
      "0      0  https://m.media-amazon.com/images/I/110EibNycl...    156839   \n",
      "1      1  https://m.media-amazon.com/images/I/11TU2clswz...    792578   \n",
      "2      2  https://m.media-amazon.com/images/I/11TU2clswz...    792578   \n",
      "3      3  https://m.media-amazon.com/images/I/11TU2clswz...    792578   \n",
      "4      4  https://m.media-amazon.com/images/I/11gHj8dhhr...    792578   \n",
      "\n",
      "  entity_name  \n",
      "0      height  \n",
      "1       width  \n",
      "2      height  \n",
      "3       depth  \n",
      "4       depth  \n"
     ]
    }
   ],
   "source": [
    "# Check the initial structure of the datasets\n",
    "print(train_df.head())\n",
    "print(test_df.head())"
   ]
  },
  {
   "cell_type": "code",
   "execution_count": 119,
   "metadata": {},
   "outputs": [],
   "source": [
    "# import pandas as pd\n",
    "\n",
    "# def add_entity_value_by_index(train_file, test_file, output_file):\n",
    "#     # Load the train and test data\n",
    "#     train_df = pd.read_csv(train_file)\n",
    "#     test_df = pd.read_csv(test_file)\n",
    "\n",
    "#     # Check if the 'index' and 'entity_value' columns exist in the train and test datasets\n",
    "#     if 'index' not in train_df.columns:\n",
    "#         train_df.reset_index(inplace=True)  # Use row numbers as 'index' if not present\n",
    "#     if 'index' not in test_df.columns:\n",
    "#         test_df.reset_index(inplace=True)  # Use row numbers as 'index' if not present\n",
    "#     if 'entity_value' not in train_df.columns:\n",
    "#         raise KeyError(f\"'entity_value' column not found in train.csv.\")\n",
    "    \n",
    "#     # Merge the 'entity_value' column from train_df into test_df based on the 'index' column\n",
    "#     merged_df = pd.merge(test_df, train_df[['index', 'entity_value']], on='index', how='left')\n",
    "\n",
    "#     # Save the updated test dataframe to a new CSV file\n",
    "#     merged_df.to_csv(output_file, index=False)\n",
    "#     print(f\"Entity values added to {output_file} successfully!\")\n",
    "\n",
    "# if __name__ == \"__main__\":\n",
    "#     # Define the file paths\n",
    "#     train_file = 'train.csv'  # Replace with your train.csv file path\n",
    "#     test_file = 'test.csv'    # Replace with your test.csv file path\n",
    "#     output_file = 'test_with_entity_value.csv'  # Output file for the updated test.csv\n",
    "    \n",
    "#     # Add entity_value to test.csv based on index\n",
    "#     add_entity_value_by_index(train_file, test_file, output_file)\n"
   ]
  },
  {
   "cell_type": "code",
   "execution_count": 120,
   "metadata": {},
   "outputs": [
    {
     "name": "stdout",
     "output_type": "stream",
     "text": [
      "<class 'pandas.core.frame.DataFrame'>\n",
      "RangeIndex: 263859 entries, 0 to 263858\n",
      "Data columns (total 4 columns):\n",
      " #   Column        Non-Null Count   Dtype \n",
      "---  ------        --------------   ----- \n",
      " 0   image_link    263859 non-null  object\n",
      " 1   group_id      263859 non-null  int64 \n",
      " 2   entity_name   263859 non-null  object\n",
      " 3   entity_value  263859 non-null  object\n",
      "dtypes: int64(1), object(3)\n",
      "memory usage: 8.1+ MB\n",
      "None\n",
      "<class 'pandas.core.frame.DataFrame'>\n",
      "RangeIndex: 131187 entries, 0 to 131186\n",
      "Data columns (total 4 columns):\n",
      " #   Column       Non-Null Count   Dtype \n",
      "---  ------       --------------   ----- \n",
      " 0   index        131187 non-null  int64 \n",
      " 1   image_link   131187 non-null  object\n",
      " 2   group_id     131187 non-null  int64 \n",
      " 3   entity_name  131187 non-null  object\n",
      "dtypes: int64(2), object(2)\n",
      "memory usage: 4.0+ MB\n",
      "None\n",
      "image_link      0\n",
      "group_id        0\n",
      "entity_name     0\n",
      "entity_value    0\n",
      "dtype: int64\n",
      "index          0\n",
      "image_link     0\n",
      "group_id       0\n",
      "entity_name    0\n",
      "dtype: int64\n"
     ]
    }
   ],
   "source": [
    "# Check for missing values and data types\n",
    "print(train_df.info())\n",
    "print(test_df.info())\n",
    "\n",
    "# Check if there are any missing values\n",
    "print(train_df.isnull().sum())\n",
    "print(test_df.isnull().sum())\n"
   ]
  },
  {
   "cell_type": "code",
   "execution_count": 121,
   "metadata": {},
   "outputs": [
    {
     "name": "stdout",
     "output_type": "stream",
     "text": [
      "Unique entity names: ['item_weight' 'item_volume' 'voltage' 'wattage'\n",
      " 'maximum_weight_recommendation' 'height' 'depth' 'width']\n"
     ]
    }
   ],
   "source": [
    "# Explore unique entity names\n",
    "unique_entities = train_df['entity_name'].unique()\n",
    "print(f\"Unique entity names: {unique_entities}\")\n"
   ]
  },
  {
   "cell_type": "code",
   "execution_count": 122,
   "metadata": {},
   "outputs": [],
   "source": [
    "# Split entity_value into numerical and unit parts\n",
    "train_df['value'] = train_df['entity_value'].apply(lambda x: x.split()[0] if isinstance(x, str) else None)\n",
    "train_df['unit'] = train_df['entity_value'].apply(lambda x: x.split()[1] if isinstance(x, str) else None)\n"
   ]
  },
  {
   "cell_type": "code",
   "execution_count": 123,
   "metadata": {},
   "outputs": [],
   "source": [
    "# Convert value to numeric\n",
    "train_df['value'] = pd.to_numeric(train_df['value'], errors='coerce')\n"
   ]
  },
  {
   "cell_type": "code",
   "execution_count": 124,
   "metadata": {},
   "outputs": [
    {
     "name": "stdout",
     "output_type": "stream",
     "text": [
      "count    2.605830e+05\n",
      "mean     9.957576e+20\n",
      "std      5.083059e+23\n",
      "min      0.000000e+00\n",
      "25%      7.100000e+00\n",
      "50%      2.350000e+01\n",
      "75%      9.600000e+01\n",
      "max      2.594766e+26\n",
      "Name: value, dtype: float64\n",
      "unit\n",
      "centimetre     65667\n",
      "gram           63630\n",
      "inch           45481\n",
      "millimetre     18895\n",
      "kilogram       13220\n",
      "               ...  \n",
      "325.0]             1\n",
      "milliampere        1\n",
      "41.0]              1\n",
      "31.0]              1\n",
      "930.0]             1\n",
      "Name: count, Length: 290, dtype: int64\n"
     ]
    }
   ],
   "source": [
    "# Check the distribution of the values\n",
    "print(train_df['value'].describe())\n",
    "print(train_df['unit'].value_counts())"
   ]
  },
  {
   "cell_type": "code",
   "execution_count": 125,
   "metadata": {},
   "outputs": [
    {
     "data": {
      "image/png": "[encoded data removed]",
      "text/plain": [
       "<Figure size 1000x600 with 1 Axes>"
      ]
     },
     "metadata": {},
     "output_type": "display_data"
    }
   ],
   "source": [
    "import seaborn as sns\n",
    "import matplotlib.pyplot as plt\n",
    "\n",
    "# Visualize distribution of values by entity_name\n",
    "plt.figure(figsize=(10,6))\n",
    "sns.boxplot(x='entity_name', y='value', data=train_df)\n",
    "plt.xticks(rotation=90)\n",
    "plt.show()"
   ]
  },
  {
   "cell_type": "code",
   "execution_count": 126,
   "metadata": {},
   "outputs": [
    {
     "name": "stdout",
     "output_type": "stream",
     "text": [
      "group_id\n",
      "101697     41.100370\n",
      "104874     20.419632\n",
      "106003     12.481901\n",
      "107694    135.824061\n",
      "107915     72.248276\n",
      "             ...    \n",
      "995200     69.913590\n",
      "995842     53.584512\n",
      "997176    148.562135\n",
      "997333     36.250000\n",
      "998545     37.595810\n",
      "Name: value, Length: 750, dtype: float64\n"
     ]
    }
   ],
   "source": [
    "# Grouping by group_id and visualizing the mean values for each group\n",
    "group_stats = train_df.groupby('group_id')['value'].mean()\n",
    "print(group_stats)"
   ]
  },
  {
   "cell_type": "code",
   "execution_count": 127,
   "metadata": {},
   "outputs": [
    {
     "data": {
      "image/png": "[encoded data removed]",
      "text/plain": [
       "<Figure size 1000x600 with 1 Axes>"
      ]
     },
     "metadata": {},
     "output_type": "display_data"
    }
   ],
   "source": [
    "# Plot the distribution of values by group_id\n",
    "plt.figure(figsize=(10,6))\n",
    "sns.boxplot(x='group_id', y='value', data=train_df)\n",
    "plt.xticks(rotation=90)\n",
    "plt.show()"
   ]
  },
  {
   "cell_type": "code",
   "execution_count": 128,
   "metadata": {},
   "outputs": [
    {
     "name": "stdout",
     "output_type": "stream",
     "text": [
      "0    https://m.media-amazon.com/images/I/61I9XdN6OF...\n",
      "1    https://m.media-amazon.com/images/I/71gSRbyXmo...\n",
      "2    https://m.media-amazon.com/images/I/61BZ4zrjZX...\n",
      "3    https://m.media-amazon.com/images/I/612mrlqiI4...\n",
      "4    https://m.media-amazon.com/images/I/617Tl40LOX...\n",
      "Name: image_link, dtype: object\n"
     ]
    }
   ],
   "source": [
    "# Sample image URLs\n",
    "print(train_df['image_link'].head())\n"
   ]
  },
  {
   "cell_type": "code",
   "execution_count": 129,
   "metadata": {},
   "outputs": [
    {
     "name": "stdout",
     "output_type": "stream",
     "text": [
      "   index                                         image_link  group_id  \\\n",
      "0      0  https://m.media-amazon.com/images/I/110EibNycl...    156839   \n",
      "1      1  https://m.media-amazon.com/images/I/11TU2clswz...    792578   \n",
      "2      2  https://m.media-amazon.com/images/I/11TU2clswz...    792578   \n",
      "3      3  https://m.media-amazon.com/images/I/11TU2clswz...    792578   \n",
      "4      4  https://m.media-amazon.com/images/I/11gHj8dhhr...    792578   \n",
      "\n",
      "  entity_name  \n",
      "0      height  \n",
      "1       width  \n",
      "2      height  \n",
      "3       depth  \n",
      "4       depth  \n",
      "entity_name\n",
      "height                           32282\n",
      "depth                            28146\n",
      "width                            26931\n",
      "item_weight                      22032\n",
      "maximum_weight_recommendation     7028\n",
      "voltage                           5488\n",
      "wattage                           5447\n",
      "item_volume                       3833\n",
      "Name: count, dtype: int64\n"
     ]
    }
   ],
   "source": [
    "# Explore the test dataset\n",
    "print(test_df.head())\n",
    "print(test_df['entity_name'].value_counts())\n"
   ]
  },
  {
   "cell_type": "code",
   "execution_count": 130,
   "metadata": {},
   "outputs": [
    {
     "name": "stderr",
     "output_type": "stream",
     "text": [
      "C:\\Users\\acer\\AppData\\Local\\Temp\\ipykernel_5384\\1205679332.py:15: FutureWarning: A value is trying to be set on a copy of a DataFrame or Series through chained assignment using an inplace method.\n",
      "The behavior will change in pandas 3.0. This inplace method will never work because the intermediate object on which we are setting values always behaves as a copy.\n",
      "\n",
      "For example, when doing 'df[col].method(value, inplace=True)', try using 'df.method({col: value}, inplace=True)' or df[col] = df[col].method(value) instead, to perform the operation inplace on the original object.\n",
      "\n",
      "\n",
      "  test_df['group_id_encoded'].fillna(-1, inplace=True)\n"
     ]
    }
   ],
   "source": [
    "# Feature Engineering\n",
    "from sklearn.preprocessing import LabelEncoder\n",
    "\n",
    "# Fit on the train data\n",
    "le = LabelEncoder()\n",
    "train_df['group_id_encoded'] = le.fit_transform(train_df['group_id'])\n",
    "\n",
    "# Create a mapping of labels\n",
    "label_mapping = dict(zip(le.classes_, le.transform(le.classes_)))\n",
    "\n",
    "# Map the test data using the known label mapping\n",
    "test_df['group_id_encoded'] = test_df['group_id'].map(label_mapping)\n",
    "\n",
    "# Replace the missing mappings (i.e., unseen labels) with a placeholder value, e.g., -1\n",
    "test_df['group_id_encoded'].fillna(-1, inplace=True)\n",
    "\n",
    "# Ensure the test_df['group_id_encoded'] column is of integer type (optional)\n",
    "test_df['group_id_encoded'] = test_df['group_id_encoded'].astype(int)\n"
   ]
  },
  {
   "cell_type": "code",
   "execution_count": 131,
   "metadata": {},
   "outputs": [],
   "source": [
    "from sklearn.preprocessing import OrdinalEncoder\n",
    "\n",
    "# Instantiate the OrdinalEncoder\n",
    "oe = OrdinalEncoder(handle_unknown='use_encoded_value', unknown_value=-1)\n",
    "\n",
    "# Fit the encoder on the train data\n",
    "train_df['group_id_encoded'] = oe.fit_transform(train_df[['group_id']])\n",
    "\n",
    "# Apply the transformation to the test data\n",
    "test_df['group_id_encoded'] = oe.transform(test_df[['group_id']])\n"
   ]
  },
  {
   "cell_type": "code",
   "execution_count": 132,
   "metadata": {},
   "outputs": [],
   "source": [
    "# pre-trained ResNet\n",
    "from keras.applications.resnet50 import ResNet50, preprocess_input\n",
    "from keras.preprocessing import image\n",
    "import numpy as np\n",
    "\n",
    "def extract_image_features(image_url):\n",
    "    model = ResNet50(weights='imagenet', include_top=False)\n",
    "    img = image.load_img(image_url, target_size=(224, 224))\n",
    "    x = image.img_to_array(img)\n",
    "    x = np.expand_dims(x, axis=0)\n",
    "    x = preprocess_input(x)\n",
    "    features = model.predict(x)\n",
    "    return features\n"
   ]
  },
  {
   "cell_type": "code",
   "execution_count": 133,
   "metadata": {},
   "outputs": [
    {
     "name": "stdout",
     "output_type": "stream",
     "text": [
      "Mean Squared Error: 0.16198940313302151\n"
     ]
    }
   ],
   "source": [
    "import numpy as np\n",
    "import pandas as pd\n",
    "from sklearn.model_selection import train_test_split\n",
    "from xgboost import XGBRegressor\n",
    "from sklearn.metrics import mean_squared_error\n",
    "\n",
    "# Example: Load dataset (replace with your actual data)\n",
    "# For this example, I will create random data for illustration\n",
    "# X should be your features and y your target variable\n",
    "X, y = np.random.rand(100, 5), np.random.rand(100)\n",
    "\n",
    "# Split the data into training and testing sets\n",
    "X_train, X_test, y_train, y_test = train_test_split(X, y, test_size=0.2, random_state=42)\n",
    "\n",
    "# Initialize and train the XGBRegressor model\n",
    "model = XGBRegressor()\n",
    "model.fit(X_train, y_train)\n",
    "\n",
    "# Make predictions\n",
    "predictions = model.predict(X_test)\n",
    "\n",
    "# Evaluate the model (e.g., using mean squared error)\n",
    "mse = mean_squared_error(y_test, predictions)\n",
    "print(f'Mean Squared Error: {mse}')\n"
   ]
  },
  {
   "cell_type": "code",
   "execution_count": 134,
   "metadata": {},
   "outputs": [
    {
     "name": "stdout",
     "output_type": "stream",
     "text": [
      "                     entity_name        unit       prediction\n",
      "0                          width  centimetre  0.10 centimetre\n",
      "1                         height       metre       0.67 metre\n",
      "2                    item_weight         ton         0.99 ton\n",
      "3                        voltage    kilovolt    0.30 kilovolt\n",
      "4                    item_volume      gallon      0.83 gallon\n",
      "5                          depth  millimetre  0.82 millimetre\n",
      "6                        wattage    kilowatt    0.27 kilowatt\n",
      "7  maximum_weight_recommendation   microgram   0.20 microgram\n",
      "8                         height  millimetre  0.81 millimetre\n",
      "9                    item_weight       ounce       0.06 ounce\n"
     ]
    }
   ],
   "source": [
    "import pandas as pd\n",
    "import numpy as np\n",
    "import random  # Import random module for random.choice\n",
    "from xgboost import XGBRegressor\n",
    "from sklearn.model_selection import train_test_split\n",
    "\n",
    "# Example DataFrame (replace with your actual data)\n",
    "test_df = pd.DataFrame({\n",
    "    'feature1': np.random.rand(10),\n",
    "    'feature2': np.random.rand(10)\n",
    "    # Add other features as needed\n",
    "})\n",
    "\n",
    "# Define entity_unit_map directly in the notebook if you cannot import constants.py\n",
    "entity_unit_map = {\n",
    "    'width': {'centimetre', 'foot', 'inch', 'metre', 'millimetre', 'yard'},\n",
    "    'depth': {'centimetre', 'foot', 'inch', 'metre', 'millimetre', 'yard'},\n",
    "    'height': {'centimetre', 'foot', 'inch', 'metre', 'millimetre', 'yard'},\n",
    "    'item_weight': {'gram', 'kilogram', 'microgram', 'milligram', 'ounce', 'pound', 'ton'},\n",
    "    'maximum_weight_recommendation': {'gram', 'kilogram', 'microgram', 'milligram', 'ounce', 'pound', 'ton'},\n",
    "    'voltage': {'kilovolt', 'millivolt', 'volt'},\n",
    "    'wattage': {'kilowatt', 'watt'},\n",
    "    'item_volume': {'centilitre', 'cubic foot', 'cubic inch', 'cup', 'decilitre', 'fluid ounce', 'gallon', 'imperial gallon', 'litre', 'microlitre', 'millilitre', 'pint', 'quart'}\n",
    "}\n",
    "\n",
    "# Function to get a random unit for each entity based on the entity name\n",
    "def get_random_unit(entity_name):\n",
    "    # Access the entity_unit_map\n",
    "    units = entity_unit_map.get(entity_name)\n",
    "    \n",
    "    # If units exist for the entity_name, return a random unit\n",
    "    if units:\n",
    "        return random.choice(list(units))\n",
    "    \n",
    "    return 'unknown unit'  # Default value if no units found\n",
    "\n",
    "# Example DataFrame with different entity names\n",
    "test_df = pd.DataFrame({\n",
    "    'entity_name': ['width', 'height', 'item_weight', 'voltage', 'item_volume', \n",
    "                    'depth', 'wattage', 'maximum_weight_recommendation', 'height', 'item_weight']\n",
    "})\n",
    "\n",
    "# Apply the function to each row to get a random unit\n",
    "test_df['unit'] = test_df['entity_name'].apply(get_random_unit)\n",
    "\n",
    "# Example predictions (replace with actual model predictions)\n",
    "predictions = np.random.rand(len(test_df))\n",
    "\n",
    "# Adding predictions to the DataFrame, including both the prediction and unit\n",
    "test_df['prediction'] = [f\"{x:.2f} {unit}\" for x, unit in zip(predictions, test_df['unit'])]\n",
    "\n",
    "# Output the resulting DataFrame\n",
    "print(test_df)\n"
   ]
  },
  {
   "cell_type": "code",
   "execution_count": 135,
   "metadata": {},
   "outputs": [
    {
     "name": "stdout",
     "output_type": "stream",
     "text": [
      "Mean CV Score: -0.8276411527210217\n"
     ]
    }
   ],
   "source": [
    "from sklearn.model_selection import cross_val_score\n",
    "\n",
    "scores = cross_val_score(model, X_train, y_train, cv=5)\n",
    "print(f\"Mean CV Score: {np.mean(scores)}\")\n"
   ]
  },
  {
   "cell_type": "code",
   "execution_count": 136,
   "metadata": {},
   "outputs": [
    {
     "name": "stdout",
     "output_type": "stream",
     "text": [
      "{'max_depth': 3, 'n_estimators': 50}\n"
     ]
    }
   ],
   "source": [
    "from sklearn.model_selection import GridSearchCV\n",
    "\n",
    "param_grid = {'max_depth': [3, 5, 10], 'n_estimators': [50, 100, 200]}\n",
    "grid_search = GridSearchCV(model, param_grid, cv=3)\n",
    "grid_search.fit(X_train, y_train)\n",
    "print(grid_search.best_params_)\n"
   ]
  },
  {
   "cell_type": "code",
   "execution_count": 137,
   "metadata": {},
   "outputs": [
    {
     "name": "stdout",
     "output_type": "stream",
     "text": [
      "Output file saved as: test_predictions.csv\n"
     ]
    }
   ],
   "source": [
    "import pandas as pd\n",
    "import random\n",
    "\n",
    "# Dummy predictor function (replace this with your actual model)\n",
    "def predictor(image_link, category_id, entity_name):\n",
    "    return \"10 inch\" if random.random() > 0.5 else \"5 inch\"\n",
    "\n",
    "def perform_eda(test_file_path, output_file_path):\n",
    "    # Load the test dataset\n",
    "    data = pd.read_csv(test_file_path)\n",
    "    \n",
    "    # Ensure 'index' column exists; if not, create one\n",
    "    if 'index' not in data.columns:\n",
    "        data.reset_index(inplace=True)\n",
    "        data.rename(columns={'index': 'index'}, inplace=True)\n",
    "    \n",
    "    # Perform predictions\n",
    "    data['prediction'] = data.apply(\n",
    "        lambda row: predictor(row['image_link'], row['group_id'], row['entity_name']), axis=1)\n",
    "    \n",
    "    # Ensure 'index' and 'prediction' columns are included in the output\n",
    "    result = data[['index', 'prediction']]\n",
    "\n",
    "    # Save the results to a CSV file\n",
    "    result.to_csv(output_file_path, index=False)\n",
    "    print(f\"Output file saved as: {output_file_path}\")\n",
    "\n",
    "if __name__ == \"__main__\":\n",
    "    # File paths\n",
    "    test_file_path = 'test.csv'  # Replace with the path to your test CSV file\n",
    "    output_file_path = 'test_predictions.csv'  # Replace with the path where you want to save the output\n",
    "    \n",
    "    # Perform EDA and save the predictions\n",
    "    perform_eda(test_file_path, output_file_path)\n"
   ]
  },
  {
   "cell_type": "code",
   "execution_count": 138,
   "metadata": {},
   "outputs": [],
   "source": [
    "# Save to a CSV file\n",
    "test_df.to_csv('test_predictions.csv', index=False)\n",
    "\n",
    "# Or save to an Excel file\n",
    "test_df.to_excel('test_predictions.xlsx', index=False)\n"
   ]
  },
  {
   "cell_type": "code",
   "execution_count": null,
   "metadata": {},
   "outputs": [],
   "source": []
  },
  {
   "cell_type": "code",
   "execution_count": 139,
   "metadata": {},
   "outputs": [
    {
     "name": "stdout",
     "output_type": "stream",
     "text": [
      "Mean Squared Error: 0.30\n",
      "R-squared: -1.66\n"
     ]
    }
   ],
   "source": [
    "from sklearn.metrics import mean_squared_error, r2_score\n",
    "\n",
    "# Example: assuming y_test is your actual target values\n",
    "y_test = np.random.rand(len(test_df))  # Replace with actual test target values\n",
    "mse = mean_squared_error(y_test, predictions)\n",
    "r2 = r2_score(y_test, predictions)\n",
    "\n",
    "print(f\"Mean Squared Error: {mse:.2f}\")\n",
    "print(f\"R-squared: {r2:.2f}\")\n"
   ]
  },
  {
   "cell_type": "code",
   "execution_count": 140,
   "metadata": {},
   "outputs": [
    {
     "data": {
      "image/png": "[encoded data removed]",
      "text/plain": [
       "<Figure size 640x480 with 1 Axes>"
      ]
     },
     "metadata": {},
     "output_type": "display_data"
    }
   ],
   "source": [
    "import matplotlib.pyplot as plt\n",
    "\n",
    "# Plot predictions vs actual values\n",
    "plt.scatter(y_test, predictions, alpha=0.5)\n",
    "plt.xlabel('Actual Values')\n",
    "plt.ylabel('Predicted Values')\n",
    "plt.title('Predictions vs Actual Values')\n",
    "plt.show()\n"
   ]
  },
  {
   "cell_type": "code",
   "execution_count": 141,
   "metadata": {},
   "outputs": [
    {
     "data": {
      "text/plain": [
       "['xgboost_model.pkl']"
      ]
     },
     "execution_count": 141,
     "metadata": {},
     "output_type": "execute_result"
    }
   ],
   "source": [
    "import joblib\n",
    "joblib.dump(model, 'xgboost_model.pkl')\n"
   ]
  },
  {
   "cell_type": "code",
   "execution_count": null,
   "metadata": {},
   "outputs": [],
   "source": []
  }
 ],
 "metadata": {
  "kernelspec": {
   "display_name": "Python 3",
   "language": "python",
   "name": "python3"
  },
  "language_info": {
   "codemirror_mode": {
    "name": "ipython",
    "version": 3
   },
   "file_extension": ".py",
   "mimetype": "text/x-python",
   "name": "python",
   "nbconvert_exporter": "python",
   "pygments_lexer": "ipython3",
   "version": "3.12.5"
  }
 },
 "nbformat": 4,
 "nbformat_minor": 2
}
